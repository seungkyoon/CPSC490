{
  "nbformat": 4,
  "nbformat_minor": 0,
  "metadata": {
    "kernelspec": {
      "display_name": "Python 3",
      "language": "python",
      "name": "python3"
    },
    "language_info": {
      "codemirror_mode": {
        "name": "ipython",
        "version": 3
      },
      "file_extension": ".py",
      "mimetype": "text/x-python",
      "name": "python",
      "nbconvert_exporter": "python",
      "pygments_lexer": "ipython3",
      "version": "3.7.10"
    },
    "colab": {
      "name": "CNN.ipynb",
      "provenance": [],
      "collapsed_sections": []
    }
  },
  "cells": [
    {
      "cell_type": "markdown",
      "metadata": {
        "id": "X5UY1kUXiwVf"
      },
      "source": [
        ""
      ]
    },
    {
      "cell_type": "code",
      "metadata": {
        "colab": {
          "base_uri": "https://localhost:8080/"
        },
        "id": "WXYrH04MhEj3",
        "outputId": "9dd294e1-9326-4b1f-d446-6addeb1357f6"
      },
      "source": [
        "from google.colab import drive, files\n",
        "drive.mount('/content/drive/')\n",
        "\n",
        "%cd /content/drive/MyDrive/College/2021Spring/Thesis/Experiments/CNN/\n",
        "%ls"
      ],
      "execution_count": null,
      "outputs": [
        {
          "output_type": "stream",
          "text": [
            "Mounted at /content/drive/\n",
            "/content/drive/MyDrive/College/2021Spring/Thesis/Experiments/CNN\n",
            "CNN.ipynb  X.npy  Y.npy\n"
          ],
          "name": "stdout"
        }
      ]
    },
    {
      "cell_type": "code",
      "metadata": {
        "colab": {
          "base_uri": "https://localhost:8080/"
        },
        "id": "ln7gGzACK6JT",
        "outputId": "7ee33929-e4b0-4153-8115-1c4a9feb7969"
      },
      "source": [
        "import keras\n",
        "from keras.datasets import mnist\n",
        "import numpy as np\n",
        "\n",
        "#load mnist dataset\n",
        "(X_train, y_train), (X_test, y_test) = mnist.load_data() \n",
        "X_train = X_train.reshape(X_train.shape[0], 28, 28, 1)\n",
        "X_test = X_test.reshape(X_test.shape[0], 28, 28, 1)\n",
        "input_shape = (28, 28, 1)"
      ],
      "execution_count": null,
      "outputs": [
        {
          "output_type": "stream",
          "text": [
            "Downloading data from https://storage.googleapis.com/tensorflow/tf-keras-datasets/mnist.npz\n",
            "11493376/11490434 [==============================] - 0s 0us/step\n"
          ],
          "name": "stdout"
        }
      ]
    },
    {
      "cell_type": "code",
      "metadata": {
        "colab": {
          "base_uri": "https://localhost:8080/"
        },
        "id": "BsZUDtapLVOC",
        "outputId": "c9dc38c0-2de9-4a69-9ed1-29c8afdf95be"
      },
      "source": [
        "# Want binary regression problem so choose to differentiate between 0 and 1\n",
        "# X_train = X_train[y_train < 2, ]\n",
        "# y_train = \n",
        "X_zeros = X_train[y_train == 0]\n",
        "X_ones = X_train[y_train == 1]\n",
        "print(X_zeros.shape)\n",
        "print(X_ones.shape) \n",
        "\n",
        "X_sub = np.concatenate((X_zeros[:30], X_ones[:30]), axis = 0)\n",
        "y_sub = np.repeat([0, 1], 30, axis = 0)\n",
        "print(y_sub)\n",
        "shuff = np.random.choice(60, 60, replace = False)\n",
        "X_sub = X_sub[shuff]\n",
        "y_sub = y_sub[shuff]\n",
        "print(y_sub)\n",
        "\n",
        "print(X_sub.shape)\n",
        "X_sub = X_sub.astype('float32')\n",
        "X_sub /= 255\n",
        "print(np.max(X_sub))\n",
        "\n",
        "# Save subsets of X and Y\n",
        "np.save(\"X.npy\", X_sub)\n",
        "np.save(\"Y.npy\", y_sub)"
      ],
      "execution_count": null,
      "outputs": [
        {
          "output_type": "stream",
          "text": [
            "(5923, 28, 28, 1)\n",
            "(6742, 28, 28, 1)\n",
            "[0 0 0 0 0 0 0 0 0 0 0 0 0 0 0 0 0 0 0 0 0 0 0 0 0 0 0 0 0 0 1 1 1 1 1 1 1\n",
            " 1 1 1 1 1 1 1 1 1 1 1 1 1 1 1 1 1 1 1 1 1 1 1]\n",
            "[0 1 1 0 0 1 1 1 1 1 0 0 0 1 0 1 0 0 0 1 0 0 0 1 0 1 1 1 1 1 1 1 1 0 1 0 0\n",
            " 0 1 1 1 0 0 0 1 1 0 0 0 1 1 0 0 0 0 0 1 1 1 0]\n",
            "(60, 28, 28, 1)\n",
            "1.0\n"
          ],
          "name": "stdout"
        }
      ]
    },
    {
      "cell_type": "code",
      "metadata": {
        "id": "Who2fS_TZJZr"
      },
      "source": [
        "from keras.models import Sequential\n",
        "from keras.layers import Dense, Flatten, Conv2D, MaxPooling2D\n",
        "model = Sequential()\n",
        "conv_layer = Conv2D(32, kernel_size=(11, 11),\n",
        "                 input_shape=input_shape, use_bias = False)\n",
        "conv_layer.trainable = True\n",
        "model.add(conv_layer)"
      ],
      "execution_count": null,
      "outputs": []
    },
    {
      "cell_type": "code",
      "metadata": {
        "colab": {
          "base_uri": "https://localhost:8080/"
        },
        "id": "a1V70t4vi4hm",
        "outputId": "10680cf0-3312-4400-d307-49f17bdd0dcf"
      },
      "source": [
        "# Test Keras Flatten behavior\n",
        "# unrolls the values beginning at the last dimension\n",
        "out = model.predict(X_sub)\n",
        "print(out.shape)\n",
        "print(out[6, 2, 3, 4])\n",
        "print(out[6, 4, 3, 2])\n",
        "\n",
        "tmp_model = Sequential()\n",
        "tmp_model.add(Flatten(data_format = \"channels_last\"))\n",
        "tmp_out = tmp_model.predict(out)\n",
        "print(tmp_out.shape)\n",
        "print(tmp_out[6, (2*18 + 3)*32 + 4])\n",
        "print(tmp_out[6, (4*18 + 3)*32 + 2])"
      ],
      "execution_count": null,
      "outputs": [
        {
          "output_type": "stream",
          "text": [
            "(60, 18, 18, 32)\n",
            "0.078282274\n",
            "-0.17071404\n",
            "WARNING:tensorflow:5 out of the last 11 calls to <function Model.make_predict_function.<locals>.predict_function at 0x7f41a3d1f200> triggered tf.function retracing. Tracing is expensive and the excessive number of tracings could be due to (1) creating @tf.function repeatedly in a loop, (2) passing tensors with different shapes, (3) passing Python objects instead of tensors. For (1), please define your @tf.function outside of the loop. For (2), @tf.function has experimental_relax_shapes=True option that relaxes argument shapes that can avoid unnecessary retracing. For (3), please refer to https://www.tensorflow.org/guide/function#controlling_retracing and https://www.tensorflow.org/api_docs/python/tf/function for  more details.\n",
            "(60, 10368)\n",
            "0.078282274\n",
            "-0.17071404\n"
          ],
          "name": "stdout"
        }
      ]
    },
    {
      "cell_type": "code",
      "metadata": {
        "colab": {
          "base_uri": "https://localhost:8080/"
        },
        "id": "TWevFQdIiThD",
        "outputId": "21850419-d30b-4ff5-fa43-48c02cfc4a02"
      },
      "source": [
        "# Verify that reshaping convolutional filters is as expected\n",
        "filters = model.layers[0].get_weights()[0]\n",
        "print(filters.shape)\n",
        "print(filters[5, 6, 0, 4])\n",
        "reshaped = filters.reshape(11, 11, -1)\n",
        "print(reshaped.shape)\n",
        "print(reshaped[5, 6, 4])"
      ],
      "execution_count": null,
      "outputs": [
        {
          "output_type": "stream",
          "text": [
            "(11, 11, 1, 32)\n",
            "0.010239787\n",
            "(11, 11, 32)\n",
            "0.010239787\n"
          ],
          "name": "stdout"
        }
      ]
    },
    {
      "cell_type": "code",
      "metadata": {
        "colab": {
          "base_uri": "https://localhost:8080/"
        },
        "id": "Cz7kOSXUiT88",
        "outputId": "9b552668-b6ff-4ae6-cec6-49c4d33314e7"
      },
      "source": [
        "\n",
        "# Test Keras convolution behavior (flipped or not) - NOT FLIPPED\n",
        "print(\"Test flip\")\n",
        "test = X_sub[0, :11, :11, 0]\n",
        "# print(test)\n",
        "print(out[0, 0, 0, 0])\n",
        "one_filter = reshaped[:, :, 0]\n",
        "print(one_filter.shape)\n",
        "# not flipped\n",
        "print(np.sum(np.multiply(test, one_filter)))\n",
        "# flipped\n",
        "print(np.sum(np.multiply(test, one_filter[::-1, ::-1])))"
      ],
      "execution_count": null,
      "outputs": [
        {
          "output_type": "stream",
          "text": [
            "Test flip\n",
            "-0.025586884\n",
            "(11, 11)\n",
            "-0.025586884\n",
            "-0.0017385734\n"
          ],
          "name": "stdout"
        }
      ]
    },
    {
      "cell_type": "code",
      "metadata": {
        "id": "KanEobl9lMwZ"
      },
      "source": [
        "# Set seeds\n",
        "seed_value = 1\n",
        "import os\n",
        "os.environ['PYTHONHASHSEED']=str(seed_value)\n",
        "import random\n",
        "random.seed(seed_value)\n",
        "import numpy as np\n",
        "np.random.seed(seed_value)\n",
        "\n",
        "# Build model\n",
        "model = Sequential()\n",
        "conv_layer = Conv2D(32, kernel_size=(11, 11),\n",
        "                 input_shape=input_shape, use_bias = False)\n",
        "conv_layer.trainable = True\n",
        "model.add(conv_layer)\n",
        "\n",
        "model.add(MaxPooling2D(pool_size=(3, 3)))\n",
        "\n",
        "model.add(Flatten(data_format = \"channels_last\"))\n",
        "\n",
        "dense_layer = Dense(1, activation='relu')\n",
        "dense_layer.trainable = True\n",
        "model.add(dense_layer)"
      ],
      "execution_count": null,
      "outputs": []
    },
    {
      "cell_type": "code",
      "metadata": {
        "colab": {
          "base_uri": "https://localhost:8080/"
        },
        "id": "MxMFsBvEp4BA",
        "outputId": "751772b0-e0dd-4926-81b8-60d9bdf1de3a"
      },
      "source": [
        "# Prediction dimensions\n",
        "out = model.predict(X_sub)\n",
        "print(out.shape)"
      ],
      "execution_count": null,
      "outputs": [
        {
          "output_type": "stream",
          "text": [
            "(60, 1)\n"
          ],
          "name": "stdout"
        }
      ]
    }
  ]
}